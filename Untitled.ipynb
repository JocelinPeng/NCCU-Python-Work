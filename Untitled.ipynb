{
 "cells": [
  {
   "cell_type": "code",
   "execution_count": null,
   "metadata": {},
   "outputs": [],
   "source": [
    "m=input(\"請輸入欲購買物品金額：\")\n",
    "m=float(m)\n",
    "\n",
    "for m in range(5000):\n",
    "    if m>=5000:\n",
    "        print(\"自己出錢！\")\n",
    "    elif 2000<m<5000:\n",
    "         print(\"撒嬌一下就幫你出\")\n",
    "    else:\n",
    "         print(\"來來來,爸媽幫你出^_^\")"
   ]
  }
 ],
 "metadata": {
  "kernelspec": {
   "display_name": "Python 3",
   "language": "python",
   "name": "python3"
  },
  "language_info": {
   "codemirror_mode": {
    "name": "ipython",
    "version": 3
   },
   "file_extension": ".py",
   "mimetype": "text/x-python",
   "name": "python",
   "nbconvert_exporter": "python",
   "pygments_lexer": "ipython3",
   "version": "3.7.3"
  }
 },
 "nbformat": 4,
 "nbformat_minor": 2
}

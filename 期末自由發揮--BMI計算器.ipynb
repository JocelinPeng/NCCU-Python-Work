{
 "cells": [
  {
   "cell_type": "code",
   "execution_count": 1,
   "metadata": {},
   "outputs": [],
   "source": [
    "%matplotlib inline\n",
    "\n",
    "import numpy as np\n",
    "import matplotlib.pyplot as plt\n",
    "import pandas as pd"
   ]
  },
  {
   "cell_type": "code",
   "execution_count": 2,
   "metadata": {},
   "outputs": [
    {
     "name": "stdout",
     "output_type": "stream",
     "text": [
      "請輸入體重(公斤): 56\n",
      "請輸入身高(公分): 156\n",
      "BMI is 23.01\n",
      "正常\n"
     ]
    }
   ],
   "source": [
    "#計算BM\n",
    "#公式為:體重(公斤)/(身高(公尺))**2\n",
    "\n",
    "#提示使用者輸入體重\n",
    "weight = eval(input(\"請輸入體重(公斤): \"))\n",
    "#提示使用者輸入身高\n",
    "height = eval(input(\"請輸入身高(公分): \"))\n",
    "\n",
    "#計算BMI\n",
    "weightInKilograms = weight\n",
    "heightInMeters = height / 100\n",
    "bmi = weightInKilograms / ( heightInMeters ** 2 )\n",
    "#顯示結果\n",
    "print(\"BMI is\", format(bmi, \".2f\"))\n",
    "if bmi < 18.5:\n",
    "    print(\"體重不足\")\n",
    "elif bmi < 25:\n",
    "    print(\"正常\")\n",
    "elif bmi < 30:\n",
    "    print(\"過重\")\n",
    "else:\n",
    "    print(\"肥胖\")"
   ]
  },
  {
   "cell_type": "code",
   "execution_count": null,
   "metadata": {},
   "outputs": [],
   "source": []
  }
 ],
 "metadata": {
  "kernelspec": {
   "display_name": "Python 3",
   "language": "python",
   "name": "python3"
  },
  "language_info": {
   "codemirror_mode": {
    "name": "ipython",
    "version": 3
   },
   "file_extension": ".py",
   "mimetype": "text/x-python",
   "name": "python",
   "nbconvert_exporter": "python",
   "pygments_lexer": "ipython3",
   "version": "3.7.3"
  }
 },
 "nbformat": 4,
 "nbformat_minor": 2
}

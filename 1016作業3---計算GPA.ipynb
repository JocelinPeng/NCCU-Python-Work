{
 "cells": [
  {
   "cell_type": "code",
   "execution_count": 1,
   "metadata": {},
   "outputs": [],
   "source": [
    "%matplotlib inline\n",
    "\n",
    "import numpy as np\n",
    "import matplotlib.pyplot as plt\n",
    "import pandas as pd"
   ]
  },
  {
   "cell_type": "code",
   "execution_count": 2,
   "metadata": {},
   "outputs": [
    {
     "name": "stdout",
     "output_type": "stream",
     "text": [
      "請輸入此科積分: 4\n",
      "請輸入此科的學分數:2\n",
      "是否繼續輸入是\n",
      "\n",
      "請輸入此科積分: 3.3\n",
      "請輸入此科的學分數:3\n",
      "是否繼續輸入是\n",
      "\n",
      "請輸入此科積分: 3\n",
      "請輸入此科的學分數:2\n",
      "是否繼續輸入否\n",
      "\n",
      "3.414285714285714\n"
     ]
    }
   ],
   "source": [
    "total = 0\n",
    "amount = 0\n",
    "while True:\n",
    "    grade = input(\"請輸入此科積分: \")\n",
    "    credit = input(\"請輸入此科的學分數:\")\n",
    "    total = total + float(grade)*int(credit)\n",
    "    amount = amount + int(credit)\n",
    "    go = input(\"是否繼續輸入\")\n",
    "    print()\n",
    "    if go == \"是\":\n",
    "        pass\n",
    "    else:\n",
    "        break\n",
    "\n",
    "g= total/amount\n",
    "print(g)\n"
   ]
  },
  {
   "cell_type": "code",
   "execution_count": null,
   "metadata": {},
   "outputs": [],
   "source": []
  }
 ],
 "metadata": {
  "kernelspec": {
   "display_name": "Python 3",
   "language": "python",
   "name": "python3"
  },
  "language_info": {
   "codemirror_mode": {
    "name": "ipython",
    "version": 3
   },
   "file_extension": ".py",
   "mimetype": "text/x-python",
   "name": "python",
   "nbconvert_exporter": "python",
   "pygments_lexer": "ipython3",
   "version": "3.7.3"
  }
 },
 "nbformat": 4,
 "nbformat_minor": 2
}

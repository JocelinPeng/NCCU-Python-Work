{
 "cells": [
  {
   "cell_type": "code",
   "execution_count": 2,
   "metadata": {},
   "outputs": [],
   "source": [
    "%matplotlib inline\n",
    "\n",
    "import numpy as np\n",
    "import matplotlib.pyplot as plt\n",
    "import pandas as pd"
   ]
  },
  {
   "cell_type": "code",
   "execution_count": 4,
   "metadata": {},
   "outputs": [],
   "source": [
    "from ipywidgets import interact\n",
    "from ipywidgets import interact_manual"
   ]
  },
  {
   "cell_type": "code",
   "execution_count": 76,
   "metadata": {},
   "outputs": [],
   "source": [
    "def move(n=1):\n",
    "    print(\" \"*int(20-n)+\"Super Junior\"+\" 💙\"+\" \"*n+\"ELF\")"
   ]
  },
  {
   "cell_type": "code",
   "execution_count": 77,
   "metadata": {
    "scrolled": true
   },
   "outputs": [
    {
     "data": {
      "application/vnd.jupyter.widget-view+json": {
       "model_id": "50d4ff81792145ba9161682fd483bb91",
       "version_major": 2,
       "version_minor": 0
      },
      "text/plain": [
       "interactive(children=(IntSlider(value=1, description='n', max=20, min=1), Output()), _dom_classes=('widget-int…"
      ]
     },
     "metadata": {},
     "output_type": "display_data"
    },
    {
     "data": {
      "text/plain": [
       "<function __main__.move(n=1)>"
      ]
     },
     "execution_count": 77,
     "metadata": {},
     "output_type": "execute_result"
    }
   ],
   "source": [
    "interact(move,n=(1,20))"
   ]
  },
  {
   "cell_type": "code",
   "execution_count": 1,
   "metadata": {},
   "outputs": [],
   "source": [
    "%matplotlib inline\n",
    "\n",
    "import numpy as np\n",
    "import matplotlib.pyplot as plt\n",
    "import pandas as pd\n",
    "import webbrowser"
   ]
  },
  {
   "cell_type": "code",
   "execution_count": 2,
   "metadata": {},
   "outputs": [
    {
     "name": "stdout",
     "output_type": "stream",
     "text": [
      "今天心情怎麼樣:今天上台報告真的累～\n"
     ]
    }
   ],
   "source": [
    "e=input(\"今天心情怎麼樣:\")\n",
    "\n",
    "if \"開心\" in e:\n",
    "    url1=\"https://www.youtube.com/watch?v=ivAI6cuHEyA\"\n",
    "    webbrowser.open(url1)\n",
    "elif \"傷心\" in e:\n",
    "    url2=\"https://www.youtube.com/watch?v=f6qn6C_sU-4\"\n",
    "    webbrowser.open(url2)\n",
    "elif \"想追夢\" in e:\n",
    "    url3=\"https://www.youtube.com/watch?v=oI3-kbiz_XA\"\n",
    "    webbrowser.open(url3)\n",
    "elif \"自責\" in e:\n",
    "    url4=\"https://www.youtube.com/watch?v=j9_LFXc52JE\"\n",
    "    webbrowser.open(url4)\n",
    "elif \"累\" in e:\n",
    "    url5=\"https://www.youtube.com/watch?v=PFeT8k2WTOQ\"\n",
    "    webbrowser.open(url5)\n",
    "else:\n",
    "    url6=\"https://www.youtube.com/watch?v=eM5XiXrBu74\"\n",
    "    webbrowser.open(url6)"
   ]
  },
  {
   "cell_type": "code",
   "execution_count": null,
   "metadata": {},
   "outputs": [],
   "source": []
  },
  {
   "cell_type": "code",
   "execution_count": null,
   "metadata": {},
   "outputs": [],
   "source": []
  }
 ],
 "metadata": {
  "kernelspec": {
   "display_name": "Python 3",
   "language": "python",
   "name": "python3"
  },
  "language_info": {
   "codemirror_mode": {
    "name": "ipython",
    "version": 3
   },
   "file_extension": ".py",
   "mimetype": "text/x-python",
   "name": "python",
   "nbconvert_exporter": "python",
   "pygments_lexer": "ipython3",
   "version": "3.7.3"
  }
 },
 "nbformat": 4,
 "nbformat_minor": 2
}

{
 "cells": [
  {
   "cell_type": "code",
   "execution_count": 1,
   "metadata": {},
   "outputs": [
    {
     "name": "stdout",
     "output_type": "stream",
     "text": [
      "ELF:歐爸！要追星沒時間讀書怎麼辦？\n",
      "赫宰：那就不要讀了，去追星吧!\n",
      "ELF:真的可以這樣嗎？\n",
      "赫宰：各位我都知道！\n",
      "ELF:知道什麼？\n",
      "赫宰：各位就算不追星，那個時間也一定會拿去做其他的事啊，不會唸書的！＾_＾\n",
      "ELF:這位大叔，你一天不懟粉就不開心是不是？＝_＝ 再見!!!!\n",
      "赫宰：相愛相殺啊哈哈哈～\n",
      "ELF:再見\n",
      "赫宰：相愛相殺啊哈哈哈～\n"
     ]
    }
   ],
   "source": [
    "msg=\"偶像懟粉絲\"\n",
    "\n",
    "while (msg!=\"再見\"):\n",
    "    msg=input(\"ELF:\")\n",
    "    if \"讀書\" in msg:\n",
    "        print(\"赫宰：那就不要讀了，去追星吧!\")\n",
    "    elif \"真的\" in msg:\n",
    "        print(\"赫宰：各位我都知道！\")\n",
    "    elif \"知道\" in msg:\n",
    "        print(\"赫宰：各位就算不追星，那個時間也一定會拿去做其他的事啊，不會唸書的！＾_＾\")\n",
    "    else:\n",
    "        print(\"赫宰：相愛相殺啊哈哈哈～\")"
   ]
  },
  {
   "cell_type": "code",
   "execution_count": 16,
   "metadata": {},
   "outputs": [
    {
     "name": "stdout",
     "output_type": "stream",
     "text": [
      "請輸入帳戶餘額：28404\n",
      "直接訂機票飛去韓國！\n"
     ]
    }
   ],
   "source": [
    "m=input(\"請輸入帳戶餘額：\")\n",
    "m=int(m)\n",
    "if m<1000:\n",
    "    print(\"這點錢只夠買張專輯～～\")\n",
    "elif m<5000:\n",
    "    print(\"去看場演唱會吧！\")\n",
    "elif m> 10000:\n",
    "    print(\"直接訂機票飛去韓國！\")\n",
    "else:\n",
    "    print(\"想幹嘛就幹嘛吧！\")"
   ]
  },
  {
   "cell_type": "code",
   "execution_count": null,
   "metadata": {},
   "outputs": [],
   "source": []
  }
 ],
 "metadata": {
  "kernelspec": {
   "display_name": "Python 3",
   "language": "python",
   "name": "python3"
  },
  "language_info": {
   "codemirror_mode": {
    "name": "ipython",
    "version": 3
   },
   "file_extension": ".py",
   "mimetype": "text/x-python",
   "name": "python",
   "nbconvert_exporter": "python",
   "pygments_lexer": "ipython3",
   "version": "3.7.3"
  }
 },
 "nbformat": 4,
 "nbformat_minor": 2
}

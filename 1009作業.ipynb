{
 "cells": [
  {
   "cell_type": "code",
   "execution_count": 9,
   "metadata": {},
   "outputs": [],
   "source": [
    "%matplotlib inline\n",
    "\n",
    "import numpy as np\n",
    "import matplotlib.pyplot as plt\n",
    "import pandas as pd\n",
    "from IPython.display import display, HTML, Markdown, Image, YouTubeVideo"
   ]
  },
  {
   "cell_type": "markdown",
   "metadata": {},
   "source": [
    "# 作業1 : 微分方程小考"
   ]
  },
  {
   "cell_type": "code",
   "execution_count": 10,
   "metadata": {},
   "outputs": [
    {
     "data": {
      "text/markdown": [
       " ## 題目\n",
       "請求出下列微分方程式的解:\n",
       "    \n",
       "1. $$ 6y*2dx-x(2x*3+y)dy=0$$\n",
       "    \n",
       "2. $$ (x+2y-4)dx-(2x+y-5)dy=0 $$\n",
       "    \n",
       "3. $$ (4xy+3y*2-x)dx+x(x+2y)dy=0 $$\n",
       "    \n",
       "4. $$ ydx+(3x-xy+2)dy=0 $$\n",
       "    \n",
       "5. $$ (2x*3-xy*2-2y+3)dx-(x*2y+2x)dy=0 $$\n",
       "    \n",
       "6. $$ (1+y*2)dx+(1+x*2)dy=0, \"when x=0, y=-1\" $$\n"
      ],
      "text/plain": [
       "<IPython.core.display.Markdown object>"
      ]
     },
     "metadata": {},
     "output_type": "display_data"
    }
   ],
   "source": [
    "md_str= \"\"\" ## 題目\n",
    "請求出下列微分方程式的解:\n",
    "    \n",
    "1. $$ 6y*2dx-x(2x*3+y)dy=0$$\n",
    "    \n",
    "2. $$ (x+2y-4)dx-(2x+y-5)dy=0 $$\n",
    "    \n",
    "3. $$ (4xy+3y*2-x)dx+x(x+2y)dy=0 $$\n",
    "    \n",
    "4. $$ ydx+(3x-xy+2)dy=0 $$\n",
    "    \n",
    "5. $$ (2x*3-xy*2-2y+3)dx-(x*2y+2x)dy=0 $$\n",
    "    \n",
    "6. $$ (1+y*2)dx+(1+x*2)dy=0, \"when x=0, y=-1\" $$\n",
    "\"\"\"\n",
    "\n",
    "md=Markdown(md_str)\n",
    "display(md)\n",
    "        "
   ]
  },
  {
   "cell_type": "markdown",
   "metadata": {},
   "source": [
    "# 作業2 : 代購價錢換算"
   ]
  },
  {
   "cell_type": "code",
   "execution_count": 20,
   "metadata": {},
   "outputs": [],
   "source": [
    "c=0.02590\n",
    "\n",
    "items=[418000, 72000, 5000, 99999]\n",
    "money=[]\n",
    "\n",
    "def exchange(items):\n",
    "    return (items*c)*1.1\n",
    "    "
   ]
  },
  {
   "cell_type": "code",
   "execution_count": 28,
   "metadata": {},
   "outputs": [
    {
     "data": {
      "text/plain": [
       "[11908.82, 2051.28, 142.45000000000002, 2848.9715100000003]"
      ]
     },
     "execution_count": 28,
     "metadata": {},
     "output_type": "execute_result"
    }
   ],
   "source": [
    "list(map(exchange, items))"
   ]
  },
  {
   "cell_type": "markdown",
   "metadata": {},
   "source": [
    "# 作業3 : 婚姻平權標語"
   ]
  },
  {
   "cell_type": "code",
   "execution_count": 43,
   "metadata": {},
   "outputs": [
    {
     "data": {
      "text/html": [
       "<h2 style='color:red;'>L</h2>"
      ],
      "text/plain": [
       "<IPython.core.display.HTML object>"
      ]
     },
     "metadata": {},
     "output_type": "display_data"
    },
    {
     "data": {
      "text/html": [
       "<h2 style='color:yellow;'>O</h2>"
      ],
      "text/plain": [
       "<IPython.core.display.HTML object>"
      ]
     },
     "metadata": {},
     "output_type": "display_data"
    },
    {
     "data": {
      "text/html": [
       "<h2 style='color:green;'>V</h2>"
      ],
      "text/plain": [
       "<IPython.core.display.HTML object>"
      ]
     },
     "metadata": {},
     "output_type": "display_data"
    },
    {
     "data": {
      "text/html": [
       "<h2 style='color:blue;'>E</h2>"
      ],
      "text/plain": [
       "<IPython.core.display.HTML object>"
      ]
     },
     "metadata": {},
     "output_type": "display_data"
    }
   ],
   "source": [
    "html_str1=\"<h2 style='color:red;'>L</h2>\"\n",
    "html_str2=\"<h2 style='color:yellow;'>O</h2>\"\n",
    "html_str3=\"<h2 style='color:green;'>V</h2>\"\n",
    "html_str4=\"<h2 style='color:blue;'>E</h2>\"\n",
    "egg1=HTML(html_str1)\n",
    "egg2=HTML(html_str2)\n",
    "egg3=HTML(html_str3)\n",
    "egg4=HTML(html_str4)\n",
    "display(egg1, egg2, egg3, egg4)"
   ]
  },
  {
   "cell_type": "markdown",
   "metadata": {},
   "source": [
    "# 作業4 : 9聖誕樹"
   ]
  },
  {
   "cell_type": "code",
   "execution_count": 85,
   "metadata": {},
   "outputs": [
    {
     "name": "stdout",
     "output_type": "stream",
     "text": [
      "                   9                   \n",
      "                  999                  \n",
      "                 99999                 \n",
      "                9999999                \n",
      "               999999999               \n",
      "              99999999999              \n",
      "             9999999999999             \n",
      "            999999999999999            \n",
      "           99999999999999999           \n",
      "          9999999999999999999          \n",
      "         999999999999999999999         \n",
      "        99999999999999999999999        \n",
      "       9999999999999999999999999       \n",
      "      999999999999999999999999999      \n",
      "     99999999999999999999999999999     \n",
      "    9999999999999999999999999999999    \n",
      "   999999999999999999999999999999999   \n",
      "  99999999999999999999999999999999999  \n",
      " 9999999999999999999999999999999999999 \n"
     ]
    }
   ],
   "source": [
    "level=19\n",
    "\n",
    "for n in range(level):\n",
    "    s=\"9\"*(2*n+1)\n",
    "    print(f\"{s:^39s}\")"
   ]
  },
  {
   "cell_type": "code",
   "execution_count": null,
   "metadata": {},
   "outputs": [],
   "source": []
  }
 ],
 "metadata": {
  "kernelspec": {
   "display_name": "Python 3",
   "language": "python",
   "name": "python3"
  },
  "language_info": {
   "codemirror_mode": {
    "name": "ipython",
    "version": 3
   },
   "file_extension": ".py",
   "mimetype": "text/x-python",
   "name": "python",
   "nbconvert_exporter": "python",
   "pygments_lexer": "ipython3",
   "version": "3.7.3"
  }
 },
 "nbformat": 4,
 "nbformat_minor": 2
}

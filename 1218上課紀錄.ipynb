{
 "cells": [
  {
   "cell_type": "markdown",
   "metadata": {},
   "source": [
    "## 找一個好的編輯器"
   ]
  },
  {
   "cell_type": "markdown",
   "metadata": {},
   "source": [
    "* Visual Studio Code\n",
    "* VIM"
   ]
  },
  {
   "cell_type": "code",
   "execution_count": 1,
   "metadata": {},
   "outputs": [
    {
     "name": "stdout",
     "output_type": "stream",
     "text": [
      "mkdir: eggs: File exists\r\n"
     ]
    }
   ],
   "source": [
    "!mkdir eggs"
   ]
  },
  {
   "cell_type": "code",
   "execution_count": 2,
   "metadata": {},
   "outputs": [
    {
     "name": "stdout",
     "output_type": "stream",
     "text": [
      "0918 上課記錄.ipynb\r\n",
      "0918作業.ipynb\r\n",
      "0925作業.ipynb\r\n",
      "0925上課記錄.ipynb\r\n",
      "1002作業.ipynb\r\n",
      "1002上課記錄.ipynb\r\n",
      "1009作業(1120).ipynb\r\n",
      "1009上課記錄.ipynb\r\n",
      "1016作業1---抽撲克牌.ipynb\r\n",
      "1016作業2---利用生日抽出得獎者.ipynb\r\n",
      "1016作業3---計算GPA.ipynb\r\n",
      "1016作業4---文青機器人.ipynb\r\n",
      "1016上課記錄.ipynb\r\n",
      "1023作業1---高微調分.ipynb\r\n",
      "1023作業2---方程式產生器.ipynb\r\n",
      "1023作業3---積分處理器.ipynb\r\n",
      "1023作業4---質數判別.ipynb\r\n",
      "1023上課記錄.ipynb\r\n",
      "1030作業1---展覽資訊數據分析.ipynb\r\n",
      "1030作業2---舞蹈表演數據分析.ipynb\r\n",
      "1030上課記錄.ipynb\r\n",
      "1113作業---波士頓房價預測.ipynb\r\n",
      "1113上課記錄.ipynb\r\n",
      "1120作業---判定是哪種鳶尾花.ipynb\r\n",
      "1120上課記錄.ipynb\r\n",
      "1127作業1---用contour畫圖.ipynb\r\n",
      "1127作業2---嘗試選取其他feature做鳶尾花預測.ipynb\r\n",
      "1127上課記錄.ipynb\r\n",
      "1218上課紀錄.ipynb\r\n",
      "Hyuk.jpg\r\n",
      "Hyuk2.JPG\r\n",
      "README.md\r\n",
      "README.md.pages\r\n",
      "Untitled.ipynb\r\n",
      "Untitled1.ipynb\r\n",
      "\u001b[34meggs\u001b[m\u001b[m/\r\n",
      "ham.py\r\n",
      "mydic.csv\r\n",
      "mydic.pickle\r\n",
      "poem.py\r\n",
      "spam.py\r\n",
      "test.txt\r\n",
      "錄製.mp4\r\n",
      "作業草稿.ipynb\r\n"
     ]
    }
   ],
   "source": [
    "%ls"
   ]
  },
  {
   "cell_type": "code",
   "execution_count": 3,
   "metadata": {},
   "outputs": [],
   "source": [
    "from random import randint"
   ]
  },
  {
   "cell_type": "code",
   "execution_count": 4,
   "metadata": {},
   "outputs": [
    {
     "name": "stdout",
     "output_type": "stream",
     "text": [
      "83, 78, 66, 57, 35, 60, 41, 41, 28, 82, 6, 95, 84, 7, 91, 65, 22, 31, 12, 6, 85, 31, 61, 3, 48, 49, 96, 70, 89, 20, 10, 17, 72, 80, 98, 7, 13, 99, 9, 89, 58, 86, 87, 29, 57, 11, 80, 77, 17, 64, 76, 75, 100, 67, 63, 40, 38, 56, 97, 61, 50, 32, 76, 63, 25, 16, 26, 78, 59, 80, 97, 4, 54, 61, 75, 77, 1, 85, 8, 84, 71, 85, 9, 86, 40, 93, 49, 89, 19, 23, 50, 33, 38, 67, 34, 77, 64, 18, 45, 85, "
     ]
    }
   ],
   "source": [
    "for i in range(100):\n",
    "    print(randint(1, 100), end=\", \")"
   ]
  },
  {
   "cell_type": "code",
   "execution_count": 5,
   "metadata": {},
   "outputs": [],
   "source": [
    "import numpy as np"
   ]
  },
  {
   "cell_type": "code",
   "execution_count": 6,
   "metadata": {},
   "outputs": [
    {
     "name": "stdout",
     "output_type": "stream",
     "text": [
      "13, 34, 4, 1, 63, 94, 28, 81, 98, 28, 86, 49, 58, 16, 98, 54, 71, 68, 82, 74, 16, 23, 95, 19, 83, 55, 58, 2, 90, 3, 7, 71, 69, 65, 96, 36, 97, 79, 90, 8, 5, 27, 95, 62, 59, 10, 34, 47, 76, 60, 63, 33, 86, 7, 38, 19, 26, 54, 11, 32, 54, 63, 74, 16, 80, 98, 41, 43, 15, 4, 52, 17, 76, 61, 36, 20, 49, 59, 96, 30, 72, 19, 50, 83, 3, 87, 55, 46, 38, 30, 99, 4, 90, 74, 29, 55, 75, 49, 44, 74, "
     ]
    }
   ],
   "source": [
    "for i in range(100):\n",
    "    print(np.random.randint(1, 100), end=\", \")"
   ]
  },
  {
   "cell_type": "code",
   "execution_count": 7,
   "metadata": {},
   "outputs": [
    {
     "name": "stdout",
     "output_type": "stream",
     "text": [
      "你今天的幸運數字是 16!\n"
     ]
    }
   ],
   "source": [
    "n = randint(1, 100)\n",
    "print(f\"你今天的幸運數字是 {n}!\")"
   ]
  },
  {
   "cell_type": "code",
   "execution_count": 8,
   "metadata": {},
   "outputs": [
    {
     "name": "stdout",
     "output_type": "stream",
     "text": [
      "File `spam.py` exists. Overwrite (y/[N])?  \n",
      "Operation cancelled.\n"
     ]
    }
   ],
   "source": [
    "%save spam.py 4 8"
   ]
  },
  {
   "cell_type": "markdown",
   "metadata": {},
   "source": [
    "## Python 網頁框架\n",
    "\n",
    "* Django(大型專案)\n",
    "* Flask(小巧)"
   ]
  },
  {
   "cell_type": "markdown",
   "metadata": {},
   "source": [
    "## Streamlit \n",
    "\n",
    "!pip install streamlit"
   ]
  },
  {
   "cell_type": "code",
   "execution_count": 11,
   "metadata": {},
   "outputs": [
    {
     "name": "stdout",
     "output_type": "stream",
     "text": [
      "Writing web01.py\n"
     ]
    }
   ],
   "source": [
    "%%writefile web01.py\n",
    "import pandas as pd\n",
    "\n",
    "df = pd.DataFrame({\"A\":[33, 99, 88], \"B\": [94, 87, 1000]})\n",
    "\n",
    "df"
   ]
  },
  {
   "cell_type": "code",
   "execution_count": 12,
   "metadata": {},
   "outputs": [
    {
     "name": "stdout",
     "output_type": "stream",
     "text": [
      "0918 上課記錄.ipynb\r\n",
      "0918作業.ipynb\r\n",
      "0925作業.ipynb\r\n",
      "0925上課記錄.ipynb\r\n",
      "1002作業.ipynb\r\n",
      "1002上課記錄.ipynb\r\n",
      "1009作業(1120).ipynb\r\n",
      "1009上課記錄.ipynb\r\n",
      "1016作業1---抽撲克牌.ipynb\r\n",
      "1016作業2---利用生日抽出得獎者.ipynb\r\n",
      "1016作業3---計算GPA.ipynb\r\n",
      "1016作業4---文青機器人.ipynb\r\n",
      "1016上課記錄.ipynb\r\n",
      "1023作業1---高微調分.ipynb\r\n",
      "1023作業2---方程式產生器.ipynb\r\n",
      "1023作業3---積分處理器.ipynb\r\n",
      "1023作業4---質數判別.ipynb\r\n",
      "1023上課記錄.ipynb\r\n",
      "1030作業1---展覽資訊數據分析.ipynb\r\n",
      "1030作業2---舞蹈表演數據分析.ipynb\r\n",
      "1030上課記錄.ipynb\r\n",
      "1113作業---波士頓房價預測.ipynb\r\n",
      "1113上課記錄.ipynb\r\n",
      "1120作業---判定是哪種鳶尾花.ipynb\r\n",
      "1120上課記錄.ipynb\r\n",
      "1127作業1---用contour畫圖.ipynb\r\n",
      "1127作業2---嘗試選取其他feature做鳶尾花預測.ipynb\r\n",
      "1127上課記錄.ipynb\r\n",
      "1218上課紀錄.ipynb\r\n",
      "Hyuk.jpg\r\n",
      "Hyuk2.JPG\r\n",
      "README.md\r\n",
      "README.md.pages\r\n",
      "Untitled.ipynb\r\n",
      "Untitled1.ipynb\r\n",
      "\u001b[34meggs\u001b[m\u001b[m/\r\n",
      "ham.py\r\n",
      "mydic.csv\r\n",
      "mydic.pickle\r\n",
      "poem.py\r\n",
      "spam.py\r\n",
      "test.txt\r\n",
      "web01.py\r\n",
      "錄製.mp4\r\n",
      "作業草稿.ipynb\r\n"
     ]
    }
   ],
   "source": [
    "%ls"
   ]
  },
  {
   "cell_type": "code",
   "execution_count": 13,
   "metadata": {},
   "outputs": [
    {
     "name": "stdout",
     "output_type": "stream",
     "text": [
      "/bin/sh: streamlit: command not found\r\n"
     ]
    }
   ],
   "source": [
    "!streamlit run web01.py"
   ]
  },
  {
   "cell_type": "code",
   "execution_count": null,
   "metadata": {},
   "outputs": [],
   "source": []
  }
 ],
 "metadata": {
  "kernelspec": {
   "display_name": "Python 3",
   "language": "python",
   "name": "python3"
  },
  "language_info": {
   "codemirror_mode": {
    "name": "ipython",
    "version": 3
   },
   "file_extension": ".py",
   "mimetype": "text/x-python",
   "name": "python",
   "nbconvert_exporter": "python",
   "pygments_lexer": "ipython3",
   "version": "3.7.3"
  }
 },
 "nbformat": 4,
 "nbformat_minor": 2
}

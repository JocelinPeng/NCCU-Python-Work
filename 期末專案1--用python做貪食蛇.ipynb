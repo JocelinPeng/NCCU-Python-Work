{
 "cells": [
  {
   "cell_type": "code",
   "execution_count": 1,
   "metadata": {},
   "outputs": [],
   "source": [
    "%matplotlib inline\n",
    "\n",
    "import numpy as np\n",
    "import matplotlib.pyplot as plt\n",
    "import pandas as pd"
   ]
  },
  {
   "cell_type": "code",
   "execution_count": 2,
   "metadata": {},
   "outputs": [
    {
     "name": "stdout",
     "output_type": "stream",
     "text": [
      "Requirement already satisfied: pygame in /Users/jocelin/anaconda3/lib/python3.7/site-packages (1.9.6)\n",
      "Note: you may need to restart the kernel to use updated packages.\n"
     ]
    }
   ],
   "source": [
    "pip install pygame"
   ]
  },
  {
   "cell_type": "code",
   "execution_count": 3,
   "metadata": {},
   "outputs": [
    {
     "name": "stdout",
     "output_type": "stream",
     "text": [
      "pygame 1.9.6\n",
      "Hello from the pygame community. https://www.pygame.org/contribute.html\n"
     ]
    }
   ],
   "source": [
    "import pygame, sys, random, time\n",
    "# 從pygame模組匯入常用的函式和常量\n",
    "from pygame.locals import *   "
   ]
  },
  {
   "cell_type": "markdown",
   "metadata": {},
   "source": [
    "## 定義初始化的引數"
   ]
  },
  {
   "cell_type": "code",
   "execution_count": 4,
   "metadata": {},
   "outputs": [],
   "source": [
    "# 初始化Pygame庫\n",
    "pygame.init()\n",
    "# 初始化一個遊戲介面視窗\n",
    "DISPLAY = pygame.display.set_mode((640, 480))\n",
    "# 設定遊戲視窗的標題\n",
    "pygame.display.set_caption('Python-貪食蛇Snake')\n",
    "# 定義一個變數來控制遊戲速度\n",
    "FPSCLOCK = pygame.time.Clock()\n",
    "# 初始化遊戲介面內使用的字型\n",
    "BASICFONT = pygame.font.SysFont(\"SIMYOU.TTF\", 80)\n",
    "\n",
    "# 定義顏色變數\n",
    "BLACK = pygame.Color(0, 0, 0)\n",
    "WHITE = pygame.Color(255, 255, 255)\n",
    "RED = pygame.Color(255, 0, 0)\n",
    "GREY = pygame.Color(150, 150, 150)"
   ]
  },
  {
   "cell_type": "markdown",
   "metadata": {},
   "source": [
    "## 初始化貪吃蛇及食物"
   ]
  },
  {
   "cell_type": "code",
   "execution_count": 11,
   "metadata": {},
   "outputs": [],
   "source": [
    "# 貪吃蛇的的初始位置\n",
    "snake_Head = [100,100]\n",
    "# 初始化貪吃蛇的長度 (注：這裡以20*20為一個標準小格子)\n",
    "snake_Body = [[80,100],[60,100],[40,100]]\n",
    "# 指定蛇初始前進的方向，向右\n",
    "direction = \"right\"\n",
    "direction = \"left\"\n",
    "\n",
    "# 給定第一枚食物的位置\n",
    "food_Position = [300,300]\n",
    "# 食物標記：0代表食物已被吃掉；1代表未被吃掉。\n",
    "food_flag = 1"
   ]
  },
  {
   "cell_type": "markdown",
   "metadata": {},
   "source": [
    "## 讓貪吃蛇的上下左右移動"
   ]
  },
  {
   "cell_type": "code",
   "execution_count": 12,
   "metadata": {},
   "outputs": [],
   "source": [
    "# 檢測按鍵等Pygame事件\n",
    "for event in pygame.event.get():\n",
    "    if event.type == QUIT:\n",
    "        # 接收到退出事件後，退出程式\n",
    "        pygame.quit()\n",
    "        sys.exit()\n",
    "        \n",
    "    # 判斷鍵盤事件，用 方向鍵 或 wsad 來表示上下左右\n",
    "    elif event.type == KEYDOWN:\n",
    "        if (event.key == K_UP or event.key == K_w) and direction != DOWN:\n",
    "            direction = UP\n",
    "        if (event.key == K_DOWN or event.key == K_s) and direction != UP:\n",
    "            direction = DOWN\n",
    "        if (event.key == K_LEFT or event.key == K_a) and direction != RIGHT:\n",
    "            direction = LEFT\n",
    "        if (event.key == K_RIGHT or event.key == K_d) and direction != LEFT:\n",
    "            direction = RIGHT"
   ]
  },
  {
   "cell_type": "code",
   "execution_count": null,
   "metadata": {},
   "outputs": [],
   "source": [
    "# 根據鍵盤的輸入，改變蛇的頭部，進行轉彎操作\n",
    "if direction == LEFT:\n",
    "    snake_Head[0] -= 20\n",
    "if direction == RIGHT:\n",
    "    snake_Head[0] += 20\n",
    "if direction == UP:\n",
    "    snake_Head[1] -= 20\n",
    "if direction == DOWN:\n",
    "    snake_Head[1] += 20\n",
    "\n",
    "# 將蛇的頭部當前的位置加入到蛇身的列表中\n",
    "snake_Body.insert(0, list(snake_Head))"
   ]
  },
  {
   "cell_type": "markdown",
   "metadata": {},
   "source": [
    "## 判斷是否吃到食物"
   ]
  },
  {
   "cell_type": "code",
   "execution_count": null,
   "metadata": {},
   "outputs": [],
   "source": [
    "# 判斷是否吃掉食物\n",
    "if snake_Head[0]==food_Position[0] and snake_Head[1]==food_Position[1]:\n",
    "    food_flag = 0\n",
    "else:\n",
    "    snake_Body.pop()"
   ]
  },
  {
   "cell_type": "markdown",
   "metadata": {},
   "source": [
    "## 重新生成食物"
   ]
  },
  {
   "cell_type": "code",
   "execution_count": null,
   "metadata": {},
   "outputs": [],
   "source": [
    "# 生成新的食物\n",
    "if food_flag == 0:\n",
    "    # 隨機生成x, y\n",
    "    x = random.randrange(1,32)\n",
    "    y = random.randrange(1,24)\n",
    "    food_Position = [int(x*20),int(y*20)]\n",
    "    food_flag = 1"
   ]
  },
  {
   "cell_type": "markdown",
   "metadata": {},
   "source": [
    "## 繪製貪吃蛇、食物、分數等資訊"
   ]
  },
  {
   "cell_type": "code",
   "execution_count": null,
   "metadata": {},
   "outputs": [],
   "source": [
    "# 繪製貪吃蛇\n",
    "def drawSnake(snake_Body):\n",
    "    for i in snake_Body:\n",
    "        pygame.draw.rect(DISPLAY, WHITE, Rect(i[0], i[1], 20, 20))\n",
    "\n",
    "# 定義食物的繪製函式\n",
    "# 繪製食物的位置\n",
    "def drawFood(food_Position):\n",
    "    pygame.draw.rect(DISPLAY, RED, Rect(food_Position[0], food_Position[1], 20, 20))\n",
    "\n",
    "# 定義分數的繪製函式\n",
    "# 列印出當前得分\n",
    "def drawScore(score):\n",
    "    # 設定分數的顯示顏色\n",
    "    score_Surf = BASICFONT.render('%s' %(score), True, GREY)\n",
    "    # 設定分數的位置\n",
    "    score_Rect = score_Surf.get_rect()\n",
    "    score_Rect.midtop = (320, 240)\n",
    "    # 繫結以上設定到控制程式碼\n",
    "    DISPLAY.blit(score_Surf, score_Rect)"
   ]
  },
  {
   "cell_type": "code",
   "execution_count": null,
   "metadata": {},
   "outputs": [],
   "source": [
    "DISPLAY.fill(BLACK)\n",
    "# 畫出貪吃蛇\n",
    "drawSnake(snake_Body)\n",
    "# 畫出食物的位置\n",
    "drawFood(food_Position)\n",
    "# 列印出玩家的分數\n",
    "drawScore(len(snake_Body) - 3)\n",
    "# 重新整理Pygame的顯示層，貪吃蛇與食物的每一次移動，都會進行重新整理顯示層的操作來顯示。\n",
    "pygame.display.flip()\n",
    "# 控制遊戲速度\n",
    "FPSCLOCK.tick(7)"
   ]
  },
  {
   "cell_type": "markdown",
   "metadata": {},
   "source": [
    "## 定義遊戲結束的畫面並判斷遊戲是否結束"
   ]
  },
  {
   "cell_type": "code",
   "execution_count": null,
   "metadata": {},
   "outputs": [],
   "source": [
    "# 遊戲結束並退出\n",
    "def GameOver():\n",
    "    # 設定GameOver的顯示顏色\n",
    "    GameOver_Surf = BASICFONT.render('Game Over!', True, GREY)\n",
    "    # 設定GameOver的位置\n",
    "    GameOver_Rect = GameOver_Surf.get_rect()\n",
    "    GameOver_Rect.midtop = (320, 10)\n",
    "    # 繫結以上設定到控制程式碼\n",
    "    DISPLAY.blit(GameOver_Surf, GameOver_Rect)\n",
    "\n",
    "    pygame.display.flip()\n",
    "    # 等待3秒\n",
    "    time.sleep(3)\n",
    "    # 退出遊戲\n",
    "    pygame.quit()\n",
    "    # 退出程式\n",
    "    sys.exit()"
   ]
  },
  {
   "cell_type": "code",
   "execution_count": null,
   "metadata": {},
   "outputs": [],
   "source": [
    "'''遊戲結束的判斷'''\n",
    "# 貪吃蛇觸碰到邊界\n",
    "if snake_Head[0]<0 or snake_Head[0]>620:\n",
    "    GameOver()\n",
    "if snake_Head[1]<0 or snake_Head[1]>460:\n",
    "    GameOver()\n",
    "# 貪吃蛇觸碰到自己\n",
    "for i in snake_Body[1:]:\n",
    "    if snake_Head[0]==i[0] and snake_Head[1]==i[1]:\n",
    "        GameOver()"
   ]
  },
  {
   "cell_type": "code",
   "execution_count": null,
   "metadata": {},
   "outputs": [],
   "source": []
  },
  {
   "cell_type": "code",
   "execution_count": null,
   "metadata": {},
   "outputs": [],
   "source": []
  }
 ],
 "metadata": {
  "kernelspec": {
   "display_name": "Python 3",
   "language": "python",
   "name": "python3"
  },
  "language_info": {
   "codemirror_mode": {
    "name": "ipython",
    "version": 3
   },
   "file_extension": ".py",
   "mimetype": "text/x-python",
   "name": "python",
   "nbconvert_exporter": "python",
   "pygments_lexer": "ipython3",
   "version": "3.7.3"
  }
 },
 "nbformat": 4,
 "nbformat_minor": 2
}

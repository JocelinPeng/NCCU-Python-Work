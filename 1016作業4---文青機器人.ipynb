{
 "cells": [
  {
   "cell_type": "code",
   "execution_count": 1,
   "metadata": {},
   "outputs": [],
   "source": [
    "%matplotlib inline\n",
    "\n",
    "import numpy as np\n",
    "import matplotlib.pyplot as plt\n",
    "import pandas as pd"
   ]
  },
  {
   "cell_type": "code",
   "execution_count": 2,
   "metadata": {},
   "outputs": [],
   "source": [
    "from numpy.random import randint"
   ]
  },
  {
   "cell_type": "code",
   "execution_count": 3,
   "metadata": {},
   "outputs": [],
   "source": [
    "from numpy.random import choice"
   ]
  },
  {
   "cell_type": "code",
   "execution_count": 21,
   "metadata": {},
   "outputs": [],
   "source": [
    "words=\"\"\" \n",
    "永遠\n",
    "月亮\n",
    "眼睛\n",
    "朋友\n",
    "檸檬\n",
    "答案\n",
    "我\n",
    "星星\n",
    "都是\n",
    "家人\n",
    "網球\n",
    "大海\n",
    "花路\n",
    "一起\n",
    "dance\n",
    "clap\n",
    "銀魚\n",
    "老婆\n",
    "結婚\n",
    "miss\n",
    "慢慢\n",
    "\"\"\""
   ]
  },
  {
   "cell_type": "code",
   "execution_count": 22,
   "metadata": {},
   "outputs": [
    {
     "data": {
      "text/plain": [
       "' \\n永遠\\n月亮\\n眼睛\\n朋友\\n檸檬\\n答案\\n我\\n星星\\n都是\\n家人\\n網球\\n大海\\n花路\\n一起\\ndance\\nclap\\n銀魚\\n老婆\\n結婚\\nmiss\\n慢慢\\n'"
      ]
     },
     "execution_count": 22,
     "metadata": {},
     "output_type": "execute_result"
    }
   ],
   "source": [
    "words"
   ]
  },
  {
   "cell_type": "code",
   "execution_count": 23,
   "metadata": {},
   "outputs": [],
   "source": [
    "vol=words.split(\"\\n\")"
   ]
  },
  {
   "cell_type": "code",
   "execution_count": 24,
   "metadata": {},
   "outputs": [
    {
     "data": {
      "text/plain": [
       "[' ',\n",
       " '永遠',\n",
       " '月亮',\n",
       " '眼睛',\n",
       " '朋友',\n",
       " '檸檬',\n",
       " '答案',\n",
       " '我',\n",
       " '星星',\n",
       " '都是',\n",
       " '家人',\n",
       " '網球',\n",
       " '大海',\n",
       " '花路',\n",
       " '一起',\n",
       " 'dance',\n",
       " 'clap',\n",
       " '銀魚',\n",
       " '老婆',\n",
       " '結婚',\n",
       " 'miss',\n",
       " '慢慢',\n",
       " '']"
      ]
     },
     "execution_count": 24,
     "metadata": {},
     "output_type": "execute_result"
    }
   ],
   "source": [
    "vol"
   ]
  },
  {
   "cell_type": "code",
   "execution_count": 37,
   "metadata": {},
   "outputs": [
    {
     "name": "stdout",
     "output_type": "stream",
     "text": [
      "銀魚 一起 clap 家人  \n",
      "dance 結婚 銀魚 我 銀魚\n",
      "網球 老婆 miss dance 網球\n",
      "答案   結婚 花路 一起\n"
     ]
    }
   ],
   "source": [
    "n=randint(4,7)\n",
    "\n",
    "for i in range(n):\n",
    "    k=randint(4,6)\n",
    "    draft=choice(vol, k)\n",
    "    com=\" \".join(draft)\n",
    "    print(com)"
   ]
  },
  {
   "cell_type": "code",
   "execution_count": null,
   "metadata": {},
   "outputs": [],
   "source": []
  }
 ],
 "metadata": {
  "kernelspec": {
   "display_name": "Python 3",
   "language": "python",
   "name": "python3"
  },
  "language_info": {
   "codemirror_mode": {
    "name": "ipython",
    "version": 3
   },
   "file_extension": ".py",
   "mimetype": "text/x-python",
   "name": "python",
   "nbconvert_exporter": "python",
   "pygments_lexer": "ipython3",
   "version": "3.7.3"
  }
 },
 "nbformat": 4,
 "nbformat_minor": 2
}
